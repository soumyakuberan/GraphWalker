{
  "cells": [
    {
      "cell_type": "markdown",
      "metadata": {
        "id": "Tce3stUlHN0L"
      },
      "source": [
        "##### Copyright 2024 Google LLC."
      ]
    },
    {
      "cell_type": "code",
      "execution_count": null,
      "metadata": {
        "cellView": "form",
        "id": "tuOe1ymfHZPu"
      },
      "outputs": [],
      "source": [
        "#@title Licensed under the Apache License, Version 2.0 (the \"License\");\n",
        "# you may not use this file except in compliance with the License.\n",
        "# You may obtain a copy of the License at\n",
        "#\n",
        "# https://www.apache.org/licenses/LICENSE-2.0\n",
        "#\n",
        "# Unless required by applicable law or agreed to in writing, software\n",
        "# distributed under the License is distributed on an \"AS IS\" BASIS,\n",
        "# WITHOUT WARRANTIES OR CONDITIONS OF ANY KIND, either express or implied.\n",
        "# See the License for the specific language governing permissions and\n",
        "# limitations under the License."
      ]
    },
    {
      "cell_type": "markdown",
      "metadata": {
        "id": "-QhPWE1lwZHH"
      },
      "source": [
        "# Gemini API Python quickstart"
      ]
    },
    {
      "cell_type": "markdown",
      "metadata": {
        "id": "fa7c47ae6451"
      },
      "source": [
        "<table class=\"tfo-notebook-buttons\" align=\"left\">\n",
        "  <td>\n",
        "    <a target=\"_blank\" href=\"https://ai.google.dev/tutorials/quickstart_colab\"><img src=\"https://ai.google.dev/static/site-assets/images/docs/notebook-site-button.png\" height=\"32\" width=\"32\" />View on Google AI</a>\n",
        "  </td>\n",
        "  <td>\n",
        "    <a target=\"_blank\" href=\"https://colab.research.google.com/github/google/generative-ai-docs/blob/main/site/en/tutorials/quickstart_colab.ipynb\"><img src=\"https://www.tensorflow.org/images/colab_logo_32px.png\" />Run in Google Colab</a>\n",
        "  </td>\n",
        "  <td>\n",
        "    <a target=\"_blank\" href=\"https://github.com/google/generative-ai-docs/blob/main/site/en/tutorials/quickstart_colab.ipynb\"><img src=\"https://www.tensorflow.org/images/GitHub-Mark-32px.png\" />View source on GitHub</a>\n",
        "  </td>\n",
        "</table>"
      ]
    },
    {
      "cell_type": "markdown",
      "metadata": {
        "id": "db29b8d4247e"
      },
      "source": [
        "This tutorial shows you how to get started with the Gemini API using the Python SDK."
      ]
    },
    {
      "cell_type": "markdown",
      "metadata": {
        "id": "NNNg43Ymw54e"
      },
      "source": [
        "## Prerequisites\n",
        "\n",
        "You can run this tutorial in Google Colab, which doesn't require additional environment configuration.\n",
        "\n",
        "Alternatively, to complete this quickstart locally, see the Python guidance in [Get started with the Gemini API](https://ai.google.dev/tutorials/quickstart)."
      ]
    },
    {
      "cell_type": "markdown",
      "metadata": {
        "id": "kHkHARdb1ZID"
      },
      "source": [
        "## Install the SDK\n",
        "\n",
        "The Python SDK for the Gemini API is contained in the [`google-generativeai`](https://pypi.org/project/google-generativeai/) package. Install the dependency using pip:"
      ]
    },
    {
      "cell_type": "code",
      "execution_count": 1,
      "metadata": {
        "id": "J6Pd9SFJ1yVi"
      },
      "outputs": [],
      "source": [
        "!pip install -q -U google-generativeai"
      ]
    },
    {
      "cell_type": "markdown",
      "metadata": {
        "id": "EeMCtmx9ykyx"
      },
      "source": [
        "## Set up your API key\n",
        "\n",
        "To use the Gemini API, you'll need an API key. If you don't already have one, create a key in Google AI Studio.\n",
        "\n",
        "<a class=\"button\" href=\"https://aistudio.google.com/app/apikey\" target=\"_blank\" rel=\"noopener noreferrer\">Get an API key</a>\n",
        "\n",
        "In Colab, add the key to the secrets manager under the \"🔑\" in the left panel. Give it the name `GOOGLE_API_KEY`. Then pass the key to the SDK:"
      ]
    },
    {
      "cell_type": "code",
      "execution_count": 3,
      "metadata": {
        "id": "HTiaTu6O1LRC"
      },
      "outputs": [],
      "source": [
        "# Import the Python SDK\n",
        "import google.generativeai as genai\n",
        "# Used to securely store your API key\n",
        "from google.colab import userdata\n",
        "\n",
        "GOOGLE_API_KEY=userdata.get('GOOGLE_API_KEY')\n",
        "genai.configure(api_key=GOOGLE_API_KEY)"
      ]
    },
    {
      "cell_type": "markdown",
      "metadata": {
        "id": "CZPYk29o2No0"
      },
      "source": [
        "## Initialize the Generative Model\n",
        "\n",
        "Before you can make any API calls, you need to initialize the Generative Model."
      ]
    },
    {
      "cell_type": "code",
      "execution_count": 4,
      "metadata": {
        "id": "s-JqXcDe2hZ_"
      },
      "outputs": [],
      "source": [
        "model = genai.GenerativeModel('gemini-pro')"
      ]
    },
    {
      "cell_type": "markdown",
      "metadata": {
        "id": "nXxypzJH4MUl"
      },
      "source": [
        "## Generate text"
      ]
    },
    {
      "cell_type": "code",
      "execution_count": 5,
      "metadata": {
        "id": "j51mcrLD4Y2W",
        "outputId": "14600f5a-4ae4-412b-8a59-98b47d876f1f",
        "colab": {
          "base_uri": "https://localhost:8080/",
          "height": 749
        }
      },
      "outputs": [
        {
          "output_type": "stream",
          "name": "stdout",
          "text": [
            "**Day 1**\n",
            "\n",
            "* **Breakfast:** Oatmeal with berries and nuts (1/2 cup cooked oatmeal, 1/4 cup berries, 1/4 cup nuts)\n",
            "* **Lunch:** Lentil soup with whole-wheat bread (1 cup lentil soup, 2 slices whole-wheat bread)\n",
            "* **Dinner:** Grilled tofu with steamed broccoli and brown rice (1/2 cup grilled tofu, 1 cup steamed broccoli, 1/2 cup brown rice)\n",
            "\n",
            "**Day 2**\n",
            "\n",
            "* **Breakfast:** Greek yogurt with fruit and granola (1 cup Greek yogurt, 1/2 cup fruit, 1/4 cup granola)\n",
            "* **Lunch:** Vegetarian chili with cornbread (1 cup vegetarian chili, 2 squares cornbread)\n",
            "* **Dinner:** Black bean tacos with whole-wheat tortillas (2 tacos with 1 whole-wheat tortilla each, 1/2 cup black beans, 1/4 cup salsa)\n",
            "\n",
            "**Day 3**\n",
            "\n",
            "* **Breakfast:** Whole-wheat toast with peanut butter (2 slices whole-wheat toast, 2 tbsp peanut butter)\n",
            "* **Lunch:** Salad with grilled vegetables and quinoa (1 cup salad mix, 1/2 cup grilled vegetables, 1/2 cup cooked quinoa, 2 tbsp light vinaigrette)\n",
            "* **Dinner:** Shepherd's pie with sweet potato topping (1 cup shepherd's pie, 1/2 cup mashed sweet potato)\n",
            "\n",
            "**Day 4**\n",
            "\n",
            "* **Breakfast:** Smoothie made with fruits, vegetables, and almond milk (1 cup fruits, 1 cup vegetables, 1 cup almond milk)\n",
            "* **Lunch:** Leftover shepherd's pie (1 cup shepherd's pie)\n",
            "* **Dinner:** Vegetarian stir-fry with brown rice (1 cup vegetarian stir-fry, 1/2 cup brown rice)\n",
            "\n",
            "**Day 5**\n",
            "\n",
            "* **Breakfast:** Eggs with whole-wheat toast (2 eggs, 2 slices whole-wheat toast)\n",
            "* **Lunch:** Tuna salad with crackers (1/2 cup tuna salad, 5 crackers)\n",
            "* **Dinner:** Grilled salmon with roasted vegetables and quinoa (4 ounces grilled salmon, 1 cup roasted vegetables, 1/2 cup cooked quinoa)\n",
            "\n",
            "**Day 6**\n",
            "\n",
            "* **Breakfast:** Oatmeal with peanut butter and jelly (1/2 cup cooked oatmeal, 1 tbsp peanut butter, 2 tbsp jelly)\n",
            "* **Lunch:** Leftover grilled salmon with roasted vegetables (4 ounces grilled salmon, 1 cup roasted vegetables)\n",
            "* **Dinner:** Vegetarian lasagna (1 cup vegetarian lasagna)\n",
            "\n",
            "**Day 7**\n",
            "\n",
            "* **Breakfast:** Pancakes with fruit (2 pancakes, 1/2 cup fruit)\n",
            "* **Lunch:** Bean and cheese burrito with brown rice (1 bean and cheese burrito, 1/2 cup brown rice)\n",
            "* **Dinner:** Pasta with marinara sauce and vegetables (1 cup whole-wheat pasta, 1/2 cup marinara sauce, 1 cup vegetables)\n"
          ]
        }
      ],
      "source": [
        "response = model.generate_content(\"give me a 7 day course meal plan for a diabetic patient, with vegetarian diet\")\n",
        "print(response.text)"
      ]
    },
    {
      "cell_type": "markdown",
      "metadata": {
        "id": "zUUAQS9u4biH"
      },
      "source": [
        "## What's next\n",
        "\n",
        "To learn more about working with the Gemini API, see the [Python tutorial](https://ai.google.dev/tutorials/python_quickstart).\n",
        "\n",
        "If you're new to generative AI models, you might want to look at the\n",
        "[concepts guide](https://ai.google.dev/docs/concepts) and the\n",
        "[Gemini API overview](https://ai.google.dev/docs/gemini_api_overview)."
      ]
    }
  ],
  "metadata": {
    "colab": {
      "name": "quickstart_colab.ipynb",
      "provenance": []
    },
    "kernelspec": {
      "display_name": "Python 3",
      "name": "python3"
    }
  },
  "nbformat": 4,
  "nbformat_minor": 0
}